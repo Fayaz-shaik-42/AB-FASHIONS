{
  "nbformat": 4,
  "nbformat_minor": 0,
  "metadata": {
    "colab": {
      "provenance": [],
      "authorship_tag": "ABX9TyNxVrOmU996ReJ2VeB9nnzl",
      "include_colab_link": true
    },
    "kernelspec": {
      "name": "python3",
      "display_name": "Python 3"
    },
    "language_info": {
      "name": "python"
    }
  },
  "cells": [
    {
      "cell_type": "markdown",
      "metadata": {
        "id": "view-in-github",
        "colab_type": "text"
      },
      "source": [
        "<a href=\"https://colab.research.google.com/github/Fayaz-shaik-42/AB-FASHIONS-GUNTUR/blob/main/Designing%20a%20CNN%20model%20for%20MNIST%20dta.ipynb\" target=\"_parent\"><img src=\"https://colab.research.google.com/assets/colab-badge.svg\" alt=\"Open In Colab\"/></a>"
      ]
    },
    {
      "cell_type": "markdown",
      "source": [
        "# **Design a CNN model for image classification on MNIST dataset...**\n",
        "\n",
        "\n"
      ],
      "metadata": {
        "id": "2iSJXZS8eV-4"
      }
    },
    {
      "cell_type": "markdown",
      "source": [
        "# **1. Load and preprocess the data:**\n",
        "\n",
        "\n",
        "\n"
      ],
      "metadata": {
        "id": "BsVuQEd0e3sY"
      }
    },
    {
      "cell_type": "markdown",
      "source": [
        "**First, load the MNIST dataset using Keras:**\n",
        "\n",
        "\n",
        "\n"
      ],
      "metadata": {
        "id": "ktBYC-62fEeq"
      }
    },
    {
      "cell_type": "code",
      "source": [
        "from keras.datasets import mnist\n",
        "(x_train, y_train), (x_test, y_test) = mnist.load_data()"
      ],
      "metadata": {
        "id": "Dr5e8T7ufDkj"
      },
      "execution_count": 6,
      "outputs": []
    },
    {
      "cell_type": "markdown",
      "source": [
        "**mnist.load_data()** :function loads this dataset.\n",
        "\n",
        "**(x_train, y_train)** :Training data set(x_train= array containg image data, y_train= array containg corresponding didgt labels(0-9)).\n",
        "\n",
        "**(x_test, y_test)** :Testing data set(x_test= array containg image data, y_test= array containg corresponding didgt labels(0-9))."
      ],
      "metadata": {
        "id": "Z-nHSD3ShSTt"
      }
    },
    {
      "cell_type": "markdown",
      "source": [
        "**Normalize the pixel values to be between 0 and 1**"
      ],
      "metadata": {
        "id": "6GKk_EGRj7lI"
      }
    },
    {
      "cell_type": "code",
      "source": [
        "x_train = x_train/255.0\n",
        "x_test = x_test/255.0"
      ],
      "metadata": {
        "id": "8ks3hjkKfCTe"
      },
      "execution_count": 7,
      "outputs": []
    },
    {
      "cell_type": "markdown",
      "source": [
        "Normalizing the pixel values of image arrays[ x_train, x_test ] will help in Neural network work better.\n",
        "\n",
        "So, by dividing each pixel value by 255.0, we can sacle them down to range b/w 0 and 1."
      ],
      "metadata": {
        "id": "0pJlfLHtk00w"
      }
    },
    {
      "cell_type": "markdown",
      "source": [
        "# **2. Define the model architecture**"
      ],
      "metadata": {
        "id": "LkxmTHMGqawK"
      }
    },
    {
      "cell_type": "markdown",
      "source": [
        "Construct the CNN using the Keras Sequential API.\n",
        "\n",
        "**CNN:** a special type of deep learning algorithm used for processing and understanding visual dta, such as images and videos.\n",
        "\n"
      ],
      "metadata": {
        "id": "K3AtRWyvqqS5"
      }
    },
    {
      "cell_type": "code",
      "source": [
        "from keras.models import Sequential\n",
        "from keras.layers import Conv2D, MaxPooling2D, Flatten, Dense\n",
        "\n",
        "model = Sequential()\n",
        "model.add(Conv2D(32,kernel_size=(3,3),strides=(1,1),activation='relu',input_shape=(28,28,1)))\n",
        "model.add(MaxPooling2D(pool_size=(2,2)))\n",
        "model.add(Flatten())\n",
        "model.add(Dense(128,activation='relu'))\n",
        "model.add(Dense(10,activation='softmax'))"
      ],
      "metadata": {
        "id": "xTXFi88KqaXi"
      },
      "execution_count": 10,
      "outputs": []
    },
    {
      "cell_type": "markdown",
      "source": [
        "**model = Sequential()**: here we are creating empty seqential model in which we can add layer after layer with method *model.add()*\n",
        "\n",
        "---\n",
        "**model.add(Conv2D(32, kernel_size=(3, 3), activation='relu', input_shape=(28, 28, 1)))**:\n",
        "\n",
        "->  Convolutional layer'Conv23' is the first layer of a CNN model.\n",
        "\n",
        "->  '32' is the no.of filter in the layer it can be more or less but '32' is good count.\n",
        "\n",
        "-> 'kernel_size=(3,3)' here 'kernal' means filter so each filter size is 3X3.\n",
        "\n",
        "-> 'activation='relu'' Here we are mentioning the activation function 'relu' which is mostly used in deep learning.\n",
        "\n",
        "-> ' input_shape=(28, 28, 1) ' Here we define the shape of the input given, that is image 28X28 with 1 channel.\n",
        "\n",
        "\n",
        "---\n",
        "\n",
        "**model.add(MaxPooling2D(pool_size=(2,2))):**\n",
        "\n",
        "-> MaxPooling2D i sthe second layer in CNN model. It shrink down the important parts of an image. Redues the image size while preserving the essentials features.\n",
        "\n",
        "-> 'pool_size=(2,2)' Here we are specifing the size of the pooling/filter window.\n",
        "\n",
        "\n",
        "\n",
        "---\n",
        "\n",
        "\n"
      ],
      "metadata": {
        "id": "RN4cn-0Ru0Bs"
      }
    },
    {
      "cell_type": "code",
      "source": [],
      "metadata": {
        "id": "V3pwvnJDqYxi"
      },
      "execution_count": null,
      "outputs": []
    }
  ]
}